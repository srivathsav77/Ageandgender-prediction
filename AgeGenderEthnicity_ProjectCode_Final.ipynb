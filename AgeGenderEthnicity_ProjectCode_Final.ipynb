{
  "cells": [
    {
      "cell_type": "code",
      "execution_count": 22,
      "id": "63388c6f",
      "metadata": {
        "id": "63388c6f"
      },
      "outputs": [],
      "source": [
        "import pandas as pd\n",
        "import seaborn as sns\n",
        "import numpy as np\n",
        "import matplotlib.pyplot as plt\n",
        "import warnings\n",
        "warnings.filterwarnings('ignore')\n",
        "\n",
        "from sklearn.model_selection import train_test_split\n",
        "from sklearn.metrics import confusion_matrix\n",
        "import itertools\n",
        "import tensorflow as tf\n",
        "from tensorflow.keras.preprocessing.image import ImageDataGenerator\n",
        "from tensorflow.keras.utils import to_categorical # convert to one-hot-encoding\n",
        "from tensorflow.keras.models import Sequential\n",
        "from tensorflow.keras.layers import Dense, Dropout, Flatten, Conv2D, MaxPool2D, BatchNormalization, InputLayer\n",
        "from tensorflow.keras.optimizers import RMSprop,Adam\n",
        "from tensorflow.keras.preprocessing.image import ImageDataGenerator\n",
        "from tensorflow.keras.callbacks import ReduceLROnPlateau, EarlyStopping\n",
        "from tensorflow.keras.losses import BinaryCrossentropy, SparseCategoricalCrossentropy"
      ]
    },
    {
      "cell_type": "code",
      "execution_count": 23,
      "id": "HLjSPSWv1duE",
      "metadata": {
        "colab": {
          "base_uri": "https://localhost:8080/"
        },
        "id": "HLjSPSWv1duE",
        "outputId": "8ab7b337-da98-4319-9d2c-d545532fcc65"
      },
      "outputs": [
        {
          "output_type": "execute_result",
          "data": {
            "text/plain": [
              "[PhysicalDevice(name='/physical_device:CPU:0', device_type='CPU')]"
            ]
          },
          "metadata": {},
          "execution_count": 23
        }
      ],
      "source": [
        "tf.config.list_physical_devices()"
      ]
    },
    {
      "cell_type": "code",
      "execution_count": 24,
      "id": "77b02b85",
      "metadata": {
        "colab": {
          "base_uri": "https://localhost:8080/",
          "height": 223
        },
        "id": "77b02b85",
        "outputId": "010712ec-0a01-4a8e-cb04-eeaa5ceca9d2"
      },
      "outputs": [
        {
          "output_type": "stream",
          "name": "stdout",
          "text": [
            "(23705, 5)\n"
          ]
        },
        {
          "output_type": "execute_result",
          "data": {
            "text/plain": [
              "   age  ethnicity  gender                        img_name  \\\n",
              "0    1          2       0  20161219203650636.jpg.chip.jpg   \n",
              "1    1          2       0  20161219222752047.jpg.chip.jpg   \n",
              "2    1          2       0  20161219222832191.jpg.chip.jpg   \n",
              "3    1          2       0  20161220144911423.jpg.chip.jpg   \n",
              "4    1          2       0  20161220144914327.jpg.chip.jpg   \n",
              "\n",
              "                                              pixels  \n",
              "0  129 128 128 126 127 130 133 135 139 142 145 14...  \n",
              "1  164 74 111 168 169 171 175 182 184 188 193 199...  \n",
              "2  67 70 71 70 69 67 70 79 90 103 116 132 145 155...  \n",
              "3  193 197 198 200 199 200 202 203 204 205 208 21...  \n",
              "4  202 205 209 210 209 209 210 211 212 214 218 21...  "
            ],
            "text/html": [
              "\n",
              "  <div id=\"df-6c0d4933-b838-4e80-93c5-5ecdfbc8d641\">\n",
              "    <div class=\"colab-df-container\">\n",
              "      <div>\n",
              "<style scoped>\n",
              "    .dataframe tbody tr th:only-of-type {\n",
              "        vertical-align: middle;\n",
              "    }\n",
              "\n",
              "    .dataframe tbody tr th {\n",
              "        vertical-align: top;\n",
              "    }\n",
              "\n",
              "    .dataframe thead th {\n",
              "        text-align: right;\n",
              "    }\n",
              "</style>\n",
              "<table border=\"1\" class=\"dataframe\">\n",
              "  <thead>\n",
              "    <tr style=\"text-align: right;\">\n",
              "      <th></th>\n",
              "      <th>age</th>\n",
              "      <th>ethnicity</th>\n",
              "      <th>gender</th>\n",
              "      <th>img_name</th>\n",
              "      <th>pixels</th>\n",
              "    </tr>\n",
              "  </thead>\n",
              "  <tbody>\n",
              "    <tr>\n",
              "      <th>0</th>\n",
              "      <td>1</td>\n",
              "      <td>2</td>\n",
              "      <td>0</td>\n",
              "      <td>20161219203650636.jpg.chip.jpg</td>\n",
              "      <td>129 128 128 126 127 130 133 135 139 142 145 14...</td>\n",
              "    </tr>\n",
              "    <tr>\n",
              "      <th>1</th>\n",
              "      <td>1</td>\n",
              "      <td>2</td>\n",
              "      <td>0</td>\n",
              "      <td>20161219222752047.jpg.chip.jpg</td>\n",
              "      <td>164 74 111 168 169 171 175 182 184 188 193 199...</td>\n",
              "    </tr>\n",
              "    <tr>\n",
              "      <th>2</th>\n",
              "      <td>1</td>\n",
              "      <td>2</td>\n",
              "      <td>0</td>\n",
              "      <td>20161219222832191.jpg.chip.jpg</td>\n",
              "      <td>67 70 71 70 69 67 70 79 90 103 116 132 145 155...</td>\n",
              "    </tr>\n",
              "    <tr>\n",
              "      <th>3</th>\n",
              "      <td>1</td>\n",
              "      <td>2</td>\n",
              "      <td>0</td>\n",
              "      <td>20161220144911423.jpg.chip.jpg</td>\n",
              "      <td>193 197 198 200 199 200 202 203 204 205 208 21...</td>\n",
              "    </tr>\n",
              "    <tr>\n",
              "      <th>4</th>\n",
              "      <td>1</td>\n",
              "      <td>2</td>\n",
              "      <td>0</td>\n",
              "      <td>20161220144914327.jpg.chip.jpg</td>\n",
              "      <td>202 205 209 210 209 209 210 211 212 214 218 21...</td>\n",
              "    </tr>\n",
              "  </tbody>\n",
              "</table>\n",
              "</div>\n",
              "      <button class=\"colab-df-convert\" onclick=\"convertToInteractive('df-6c0d4933-b838-4e80-93c5-5ecdfbc8d641')\"\n",
              "              title=\"Convert this dataframe to an interactive table.\"\n",
              "              style=\"display:none;\">\n",
              "        \n",
              "  <svg xmlns=\"http://www.w3.org/2000/svg\" height=\"24px\"viewBox=\"0 0 24 24\"\n",
              "       width=\"24px\">\n",
              "    <path d=\"M0 0h24v24H0V0z\" fill=\"none\"/>\n",
              "    <path d=\"M18.56 5.44l.94 2.06.94-2.06 2.06-.94-2.06-.94-.94-2.06-.94 2.06-2.06.94zm-11 1L8.5 8.5l.94-2.06 2.06-.94-2.06-.94L8.5 2.5l-.94 2.06-2.06.94zm10 10l.94 2.06.94-2.06 2.06-.94-2.06-.94-.94-2.06-.94 2.06-2.06.94z\"/><path d=\"M17.41 7.96l-1.37-1.37c-.4-.4-.92-.59-1.43-.59-.52 0-1.04.2-1.43.59L10.3 9.45l-7.72 7.72c-.78.78-.78 2.05 0 2.83L4 21.41c.39.39.9.59 1.41.59.51 0 1.02-.2 1.41-.59l7.78-7.78 2.81-2.81c.8-.78.8-2.07 0-2.86zM5.41 20L4 18.59l7.72-7.72 1.47 1.35L5.41 20z\"/>\n",
              "  </svg>\n",
              "      </button>\n",
              "      \n",
              "  <style>\n",
              "    .colab-df-container {\n",
              "      display:flex;\n",
              "      flex-wrap:wrap;\n",
              "      gap: 12px;\n",
              "    }\n",
              "\n",
              "    .colab-df-convert {\n",
              "      background-color: #E8F0FE;\n",
              "      border: none;\n",
              "      border-radius: 50%;\n",
              "      cursor: pointer;\n",
              "      display: none;\n",
              "      fill: #1967D2;\n",
              "      height: 32px;\n",
              "      padding: 0 0 0 0;\n",
              "      width: 32px;\n",
              "    }\n",
              "\n",
              "    .colab-df-convert:hover {\n",
              "      background-color: #E2EBFA;\n",
              "      box-shadow: 0px 1px 2px rgba(60, 64, 67, 0.3), 0px 1px 3px 1px rgba(60, 64, 67, 0.15);\n",
              "      fill: #174EA6;\n",
              "    }\n",
              "\n",
              "    [theme=dark] .colab-df-convert {\n",
              "      background-color: #3B4455;\n",
              "      fill: #D2E3FC;\n",
              "    }\n",
              "\n",
              "    [theme=dark] .colab-df-convert:hover {\n",
              "      background-color: #434B5C;\n",
              "      box-shadow: 0px 1px 3px 1px rgba(0, 0, 0, 0.15);\n",
              "      filter: drop-shadow(0px 1px 2px rgba(0, 0, 0, 0.3));\n",
              "      fill: #FFFFFF;\n",
              "    }\n",
              "  </style>\n",
              "\n",
              "      <script>\n",
              "        const buttonEl =\n",
              "          document.querySelector('#df-6c0d4933-b838-4e80-93c5-5ecdfbc8d641 button.colab-df-convert');\n",
              "        buttonEl.style.display =\n",
              "          google.colab.kernel.accessAllowed ? 'block' : 'none';\n",
              "\n",
              "        async function convertToInteractive(key) {\n",
              "          const element = document.querySelector('#df-6c0d4933-b838-4e80-93c5-5ecdfbc8d641');\n",
              "          const dataTable =\n",
              "            await google.colab.kernel.invokeFunction('convertToInteractive',\n",
              "                                                     [key], {});\n",
              "          if (!dataTable) return;\n",
              "\n",
              "          const docLinkHtml = 'Like what you see? Visit the ' +\n",
              "            '<a target=\"_blank\" href=https://colab.research.google.com/notebooks/data_table.ipynb>data table notebook</a>'\n",
              "            + ' to learn more about interactive tables.';\n",
              "          element.innerHTML = '';\n",
              "          dataTable['output_type'] = 'display_data';\n",
              "          await google.colab.output.renderOutput(dataTable, element);\n",
              "          const docLink = document.createElement('div');\n",
              "          docLink.innerHTML = docLinkHtml;\n",
              "          element.appendChild(docLink);\n",
              "        }\n",
              "      </script>\n",
              "    </div>\n",
              "  </div>\n",
              "  "
            ]
          },
          "metadata": {},
          "execution_count": 24
        }
      ],
      "source": [
        "# data = pd.read_csv(\"D:/Arshdeep/McMaster/CPS/DL Project/age_gender.csv\")\n",
        "data = pd.read_csv(\"/content/sample_data/age_gender.csv\")\n",
        "\n",
        "print(data.shape)\n",
        "data.head()"
      ]
    },
    {
      "cell_type": "code",
      "execution_count": 25,
      "id": "3f9ab61f",
      "metadata": {
        "id": "3f9ab61f"
      },
      "outputs": [],
      "source": [
        "data = data.drop(\"img_name\", axis=1)"
      ]
    },
    {
      "cell_type": "code",
      "execution_count": 26,
      "id": "65494417",
      "metadata": {
        "id": "65494417"
      },
      "outputs": [],
      "source": [
        "columns = [\"age\",\"gender\",\"ethnicity\"]\n",
        "y = data.drop(\"pixels\", axis = 1)\n",
        "x = data.drop(columns, axis = 1)"
      ]
    },
    {
      "cell_type": "code",
      "execution_count": 27,
      "id": "0ba22528",
      "metadata": {
        "colab": {
          "base_uri": "https://localhost:8080/",
          "height": 206
        },
        "id": "0ba22528",
        "outputId": "95a09a31-26cb-4071-9e73-08d00786c07a"
      },
      "outputs": [
        {
          "output_type": "execute_result",
          "data": {
            "text/plain": [
              "                                              pixels\n",
              "0  129 128 128 126 127 130 133 135 139 142 145 14...\n",
              "1  164 74 111 168 169 171 175 182 184 188 193 199...\n",
              "2  67 70 71 70 69 67 70 79 90 103 116 132 145 155...\n",
              "3  193 197 198 200 199 200 202 203 204 205 208 21...\n",
              "4  202 205 209 210 209 209 210 211 212 214 218 21..."
            ],
            "text/html": [
              "\n",
              "  <div id=\"df-c67b0220-0a2c-471a-9d09-97c1b506264b\">\n",
              "    <div class=\"colab-df-container\">\n",
              "      <div>\n",
              "<style scoped>\n",
              "    .dataframe tbody tr th:only-of-type {\n",
              "        vertical-align: middle;\n",
              "    }\n",
              "\n",
              "    .dataframe tbody tr th {\n",
              "        vertical-align: top;\n",
              "    }\n",
              "\n",
              "    .dataframe thead th {\n",
              "        text-align: right;\n",
              "    }\n",
              "</style>\n",
              "<table border=\"1\" class=\"dataframe\">\n",
              "  <thead>\n",
              "    <tr style=\"text-align: right;\">\n",
              "      <th></th>\n",
              "      <th>pixels</th>\n",
              "    </tr>\n",
              "  </thead>\n",
              "  <tbody>\n",
              "    <tr>\n",
              "      <th>0</th>\n",
              "      <td>129 128 128 126 127 130 133 135 139 142 145 14...</td>\n",
              "    </tr>\n",
              "    <tr>\n",
              "      <th>1</th>\n",
              "      <td>164 74 111 168 169 171 175 182 184 188 193 199...</td>\n",
              "    </tr>\n",
              "    <tr>\n",
              "      <th>2</th>\n",
              "      <td>67 70 71 70 69 67 70 79 90 103 116 132 145 155...</td>\n",
              "    </tr>\n",
              "    <tr>\n",
              "      <th>3</th>\n",
              "      <td>193 197 198 200 199 200 202 203 204 205 208 21...</td>\n",
              "    </tr>\n",
              "    <tr>\n",
              "      <th>4</th>\n",
              "      <td>202 205 209 210 209 209 210 211 212 214 218 21...</td>\n",
              "    </tr>\n",
              "  </tbody>\n",
              "</table>\n",
              "</div>\n",
              "      <button class=\"colab-df-convert\" onclick=\"convertToInteractive('df-c67b0220-0a2c-471a-9d09-97c1b506264b')\"\n",
              "              title=\"Convert this dataframe to an interactive table.\"\n",
              "              style=\"display:none;\">\n",
              "        \n",
              "  <svg xmlns=\"http://www.w3.org/2000/svg\" height=\"24px\"viewBox=\"0 0 24 24\"\n",
              "       width=\"24px\">\n",
              "    <path d=\"M0 0h24v24H0V0z\" fill=\"none\"/>\n",
              "    <path d=\"M18.56 5.44l.94 2.06.94-2.06 2.06-.94-2.06-.94-.94-2.06-.94 2.06-2.06.94zm-11 1L8.5 8.5l.94-2.06 2.06-.94-2.06-.94L8.5 2.5l-.94 2.06-2.06.94zm10 10l.94 2.06.94-2.06 2.06-.94-2.06-.94-.94-2.06-.94 2.06-2.06.94z\"/><path d=\"M17.41 7.96l-1.37-1.37c-.4-.4-.92-.59-1.43-.59-.52 0-1.04.2-1.43.59L10.3 9.45l-7.72 7.72c-.78.78-.78 2.05 0 2.83L4 21.41c.39.39.9.59 1.41.59.51 0 1.02-.2 1.41-.59l7.78-7.78 2.81-2.81c.8-.78.8-2.07 0-2.86zM5.41 20L4 18.59l7.72-7.72 1.47 1.35L5.41 20z\"/>\n",
              "  </svg>\n",
              "      </button>\n",
              "      \n",
              "  <style>\n",
              "    .colab-df-container {\n",
              "      display:flex;\n",
              "      flex-wrap:wrap;\n",
              "      gap: 12px;\n",
              "    }\n",
              "\n",
              "    .colab-df-convert {\n",
              "      background-color: #E8F0FE;\n",
              "      border: none;\n",
              "      border-radius: 50%;\n",
              "      cursor: pointer;\n",
              "      display: none;\n",
              "      fill: #1967D2;\n",
              "      height: 32px;\n",
              "      padding: 0 0 0 0;\n",
              "      width: 32px;\n",
              "    }\n",
              "\n",
              "    .colab-df-convert:hover {\n",
              "      background-color: #E2EBFA;\n",
              "      box-shadow: 0px 1px 2px rgba(60, 64, 67, 0.3), 0px 1px 3px 1px rgba(60, 64, 67, 0.15);\n",
              "      fill: #174EA6;\n",
              "    }\n",
              "\n",
              "    [theme=dark] .colab-df-convert {\n",
              "      background-color: #3B4455;\n",
              "      fill: #D2E3FC;\n",
              "    }\n",
              "\n",
              "    [theme=dark] .colab-df-convert:hover {\n",
              "      background-color: #434B5C;\n",
              "      box-shadow: 0px 1px 3px 1px rgba(0, 0, 0, 0.15);\n",
              "      filter: drop-shadow(0px 1px 2px rgba(0, 0, 0, 0.3));\n",
              "      fill: #FFFFFF;\n",
              "    }\n",
              "  </style>\n",
              "\n",
              "      <script>\n",
              "        const buttonEl =\n",
              "          document.querySelector('#df-c67b0220-0a2c-471a-9d09-97c1b506264b button.colab-df-convert');\n",
              "        buttonEl.style.display =\n",
              "          google.colab.kernel.accessAllowed ? 'block' : 'none';\n",
              "\n",
              "        async function convertToInteractive(key) {\n",
              "          const element = document.querySelector('#df-c67b0220-0a2c-471a-9d09-97c1b506264b');\n",
              "          const dataTable =\n",
              "            await google.colab.kernel.invokeFunction('convertToInteractive',\n",
              "                                                     [key], {});\n",
              "          if (!dataTable) return;\n",
              "\n",
              "          const docLinkHtml = 'Like what you see? Visit the ' +\n",
              "            '<a target=\"_blank\" href=https://colab.research.google.com/notebooks/data_table.ipynb>data table notebook</a>'\n",
              "            + ' to learn more about interactive tables.';\n",
              "          element.innerHTML = '';\n",
              "          dataTable['output_type'] = 'display_data';\n",
              "          await google.colab.output.renderOutput(dataTable, element);\n",
              "          const docLink = document.createElement('div');\n",
              "          docLink.innerHTML = docLinkHtml;\n",
              "          element.appendChild(docLink);\n",
              "        }\n",
              "      </script>\n",
              "    </div>\n",
              "  </div>\n",
              "  "
            ]
          },
          "metadata": {},
          "execution_count": 27
        }
      ],
      "source": [
        "x.head()"
      ]
    },
    {
      "cell_type": "code",
      "execution_count": 28,
      "id": "493956f0",
      "metadata": {
        "colab": {
          "base_uri": "https://localhost:8080/",
          "height": 206
        },
        "id": "493956f0",
        "outputId": "31fd89ea-c3ce-4087-8e7c-ec248e19ac51"
      },
      "outputs": [
        {
          "output_type": "execute_result",
          "data": {
            "text/plain": [
              "   age  ethnicity  gender\n",
              "0    1          2       0\n",
              "1    1          2       0\n",
              "2    1          2       0\n",
              "3    1          2       0\n",
              "4    1          2       0"
            ],
            "text/html": [
              "\n",
              "  <div id=\"df-c0f41dcb-5d1f-47f1-9b32-18ec27e47c65\">\n",
              "    <div class=\"colab-df-container\">\n",
              "      <div>\n",
              "<style scoped>\n",
              "    .dataframe tbody tr th:only-of-type {\n",
              "        vertical-align: middle;\n",
              "    }\n",
              "\n",
              "    .dataframe tbody tr th {\n",
              "        vertical-align: top;\n",
              "    }\n",
              "\n",
              "    .dataframe thead th {\n",
              "        text-align: right;\n",
              "    }\n",
              "</style>\n",
              "<table border=\"1\" class=\"dataframe\">\n",
              "  <thead>\n",
              "    <tr style=\"text-align: right;\">\n",
              "      <th></th>\n",
              "      <th>age</th>\n",
              "      <th>ethnicity</th>\n",
              "      <th>gender</th>\n",
              "    </tr>\n",
              "  </thead>\n",
              "  <tbody>\n",
              "    <tr>\n",
              "      <th>0</th>\n",
              "      <td>1</td>\n",
              "      <td>2</td>\n",
              "      <td>0</td>\n",
              "    </tr>\n",
              "    <tr>\n",
              "      <th>1</th>\n",
              "      <td>1</td>\n",
              "      <td>2</td>\n",
              "      <td>0</td>\n",
              "    </tr>\n",
              "    <tr>\n",
              "      <th>2</th>\n",
              "      <td>1</td>\n",
              "      <td>2</td>\n",
              "      <td>0</td>\n",
              "    </tr>\n",
              "    <tr>\n",
              "      <th>3</th>\n",
              "      <td>1</td>\n",
              "      <td>2</td>\n",
              "      <td>0</td>\n",
              "    </tr>\n",
              "    <tr>\n",
              "      <th>4</th>\n",
              "      <td>1</td>\n",
              "      <td>2</td>\n",
              "      <td>0</td>\n",
              "    </tr>\n",
              "  </tbody>\n",
              "</table>\n",
              "</div>\n",
              "      <button class=\"colab-df-convert\" onclick=\"convertToInteractive('df-c0f41dcb-5d1f-47f1-9b32-18ec27e47c65')\"\n",
              "              title=\"Convert this dataframe to an interactive table.\"\n",
              "              style=\"display:none;\">\n",
              "        \n",
              "  <svg xmlns=\"http://www.w3.org/2000/svg\" height=\"24px\"viewBox=\"0 0 24 24\"\n",
              "       width=\"24px\">\n",
              "    <path d=\"M0 0h24v24H0V0z\" fill=\"none\"/>\n",
              "    <path d=\"M18.56 5.44l.94 2.06.94-2.06 2.06-.94-2.06-.94-.94-2.06-.94 2.06-2.06.94zm-11 1L8.5 8.5l.94-2.06 2.06-.94-2.06-.94L8.5 2.5l-.94 2.06-2.06.94zm10 10l.94 2.06.94-2.06 2.06-.94-2.06-.94-.94-2.06-.94 2.06-2.06.94z\"/><path d=\"M17.41 7.96l-1.37-1.37c-.4-.4-.92-.59-1.43-.59-.52 0-1.04.2-1.43.59L10.3 9.45l-7.72 7.72c-.78.78-.78 2.05 0 2.83L4 21.41c.39.39.9.59 1.41.59.51 0 1.02-.2 1.41-.59l7.78-7.78 2.81-2.81c.8-.78.8-2.07 0-2.86zM5.41 20L4 18.59l7.72-7.72 1.47 1.35L5.41 20z\"/>\n",
              "  </svg>\n",
              "      </button>\n",
              "      \n",
              "  <style>\n",
              "    .colab-df-container {\n",
              "      display:flex;\n",
              "      flex-wrap:wrap;\n",
              "      gap: 12px;\n",
              "    }\n",
              "\n",
              "    .colab-df-convert {\n",
              "      background-color: #E8F0FE;\n",
              "      border: none;\n",
              "      border-radius: 50%;\n",
              "      cursor: pointer;\n",
              "      display: none;\n",
              "      fill: #1967D2;\n",
              "      height: 32px;\n",
              "      padding: 0 0 0 0;\n",
              "      width: 32px;\n",
              "    }\n",
              "\n",
              "    .colab-df-convert:hover {\n",
              "      background-color: #E2EBFA;\n",
              "      box-shadow: 0px 1px 2px rgba(60, 64, 67, 0.3), 0px 1px 3px 1px rgba(60, 64, 67, 0.15);\n",
              "      fill: #174EA6;\n",
              "    }\n",
              "\n",
              "    [theme=dark] .colab-df-convert {\n",
              "      background-color: #3B4455;\n",
              "      fill: #D2E3FC;\n",
              "    }\n",
              "\n",
              "    [theme=dark] .colab-df-convert:hover {\n",
              "      background-color: #434B5C;\n",
              "      box-shadow: 0px 1px 3px 1px rgba(0, 0, 0, 0.15);\n",
              "      filter: drop-shadow(0px 1px 2px rgba(0, 0, 0, 0.3));\n",
              "      fill: #FFFFFF;\n",
              "    }\n",
              "  </style>\n",
              "\n",
              "      <script>\n",
              "        const buttonEl =\n",
              "          document.querySelector('#df-c0f41dcb-5d1f-47f1-9b32-18ec27e47c65 button.colab-df-convert');\n",
              "        buttonEl.style.display =\n",
              "          google.colab.kernel.accessAllowed ? 'block' : 'none';\n",
              "\n",
              "        async function convertToInteractive(key) {\n",
              "          const element = document.querySelector('#df-c0f41dcb-5d1f-47f1-9b32-18ec27e47c65');\n",
              "          const dataTable =\n",
              "            await google.colab.kernel.invokeFunction('convertToInteractive',\n",
              "                                                     [key], {});\n",
              "          if (!dataTable) return;\n",
              "\n",
              "          const docLinkHtml = 'Like what you see? Visit the ' +\n",
              "            '<a target=\"_blank\" href=https://colab.research.google.com/notebooks/data_table.ipynb>data table notebook</a>'\n",
              "            + ' to learn more about interactive tables.';\n",
              "          element.innerHTML = '';\n",
              "          dataTable['output_type'] = 'display_data';\n",
              "          await google.colab.output.renderOutput(dataTable, element);\n",
              "          const docLink = document.createElement('div');\n",
              "          docLink.innerHTML = docLinkHtml;\n",
              "          element.appendChild(docLink);\n",
              "        }\n",
              "      </script>\n",
              "    </div>\n",
              "  </div>\n",
              "  "
            ]
          },
          "metadata": {},
          "execution_count": 28
        }
      ],
      "source": [
        "y.head()"
      ]
    },
    {
      "cell_type": "code",
      "execution_count": 29,
      "id": "c5b71123",
      "metadata": {
        "colab": {
          "base_uri": "https://localhost:8080/",
          "height": 1000
        },
        "id": "c5b71123",
        "outputId": "10e0782f-6642-471f-8725-ce1ba4e4665c"
      },
      "outputs": [
        {
          "output_type": "display_data",
          "data": {
            "text/plain": [
              "<Figure size 1080x504 with 1 Axes>"
            ],
            "image/png": "[encoded data removed]"
          },
          "metadata": {
            "needs_background": "light"
          }
        },
        {
          "output_type": "display_data",
          "data": {
            "text/plain": [
              "<Figure size 1080x504 with 1 Axes>"
            ],
            "image/png": "[encoded data removed]"
          },
          "metadata": {
            "needs_background": "light"
          }
        },
        {
          "output_type": "display_data",
          "data": {
            "text/plain": [
              "<Figure size 1080x504 with 1 Axes>"
            ],
            "image/png": "[encoded data removed]"
          },
          "metadata": {
            "needs_background": "light"
          }
        }
      ],
      "source": [
        "for i in y.columns :\n",
        "    plt.figure(figsize=(15,7))\n",
        "    g = sns.countplot(y[i], palette=\"icefire\")\n",
        "    plt.title(\"Number of {}\".format(i))"
      ]
    },
    {
      "cell_type": "code",
      "execution_count": 30,
      "id": "414b92ce",
      "metadata": {
        "colab": {
          "base_uri": "https://localhost:8080/"
        },
        "id": "414b92ce",
        "outputId": "6af29395-4956-4809-a70a-1a2603cc0d79"
      },
      "outputs": [
        {
          "output_type": "stream",
          "name": "stdout",
          "text": [
            "2304 48 48\n"
          ]
        }
      ],
      "source": [
        "# Image shape\n",
        "\n",
        "num_pixels = len(x['pixels'][0].split(\" \"))\n",
        "img_height = int(np.sqrt(len(x['pixels'][0].split(\" \"))))\n",
        "img_width = int(np.sqrt(len(x['pixels'][0].split(\" \"))))\n",
        "print(num_pixels, img_height, img_width)"
      ]
    },
    {
      "cell_type": "code",
      "execution_count": 31,
      "id": "0c2471dd",
      "metadata": {
        "colab": {
          "base_uri": "https://localhost:8080/"
        },
        "id": "0c2471dd",
        "outputId": "3da5e6d1-f4ee-4444-9444-c79fe72b0595"
      },
      "outputs": [
        {
          "output_type": "stream",
          "name": "stdout",
          "text": [
            "x shape:  (23705, 48, 48, 1)\n"
          ]
        }
      ],
      "source": [
        "# Reshaping the data\n",
        "\n",
        "x = pd.Series(x[\"pixels\"])\n",
        "x = x.apply(lambda x: x.split(' '))\n",
        "x = x.apply(lambda x: np.array(list(map(lambda z: np.int(z), x))))\n",
        "x = np.array(x)\n",
        "x = np.stack(np.array(x), axis=0)\n",
        "x = np.reshape(x, (-1, 48, 48))\n",
        "\n",
        "# reshape data\n",
        "x = x.reshape(-1,48,48,1)\n",
        "print(\"x shape: \",x.shape)"
      ]
    },
    {
      "cell_type": "code",
      "execution_count": 32,
      "id": "1f9e983d",
      "metadata": {
        "id": "1f9e983d",
        "colab": {
          "base_uri": "https://localhost:8080/"
        },
        "outputId": "8efd9857-6ca4-460e-878f-9b0cfd324a00"
      },
      "outputs": [
        {
          "output_type": "stream",
          "name": "stdout",
          "text": [
            "[[1. 0. 0. 0. 0.]\n",
            " [1. 0. 0. 0. 0.]\n",
            " [1. 0. 0. 0. 0.]\n",
            " ...\n",
            " [0. 0. 0. 0. 1.]\n",
            " [0. 0. 0. 0. 1.]\n",
            " [0. 0. 0. 0. 1.]] [[1. 0.]\n",
            " [1. 0.]\n",
            " [1. 0.]\n",
            " ...\n",
            " [0. 1.]\n",
            " [0. 1.]\n",
            " [0. 1.]] [[0. 0. 1. 0. 0.]\n",
            " [0. 0. 1. 0. 0.]\n",
            " [0. 0. 1. 0. 0.]\n",
            " ...\n",
            " [0. 0. 1. 0. 0.]\n",
            " [0. 0. 1. 0. 0.]\n",
            " [1. 0. 0. 0. 0.]]\n"
          ]
        }
      ],
      "source": [
        "y[\"age\"] = pd.cut(y[\"age\"],bins=[0,3,18,45,64,116],labels=[\"0\",\"1\",\"2\",\"3\",\"4\"])\n",
        "\n",
        "age_matrix = np.array(y[\"age\"]) \n",
        "gender_matrix = np.array(y[\"gender\"])\n",
        "ethnicity_matrix = np.array(y[\"ethnicity\"])\n",
        "age = to_categorical(age_matrix, num_classes = 5)\n",
        "gender = to_categorical(y[\"gender\"], num_classes = 2)\n",
        "ethnicity = to_categorical(ethnicity_matrix, num_classes = 5)\n",
        "print(age, gender, ethnicity)"
      ]
    },
    {
      "cell_type": "code",
      "execution_count": 33,
      "id": "5827200a",
      "metadata": {
        "id": "5827200a"
      },
      "outputs": [],
      "source": [
        "# Normalize the data\n",
        "x = x / 255.0\n",
        "x = x / 255.0"
      ]
    },
    {
      "cell_type": "code",
      "execution_count": 34,
      "id": "25236007",
      "metadata": {
        "id": "25236007"
      },
      "outputs": [],
      "source": [
        "datagen = ImageDataGenerator(\n",
        "        featurewise_center=False,  # set input mean to 0 over the dataset\n",
        "        samplewise_center=False,  # set each sample mean to 0\n",
        "        featurewise_std_normalization=False,  # divide inputs by std of the dataset\n",
        "        samplewise_std_normalization=False,  # divide each input by its std\n",
        "        zca_whitening=False,  # dimesion reduction\n",
        "        rotation_range=5,  # randomly rotate images in the range 5 degrees\n",
        "        zoom_range = 0.1, # Randomly zoom image 10%\n",
        "        width_shift_range=0.1,  # randomly shift images horizontally 10%\n",
        "        height_shift_range=0.1,  # randomly shift images vertically 10%\n",
        "        horizontal_flip=False,  # randomly flip images\n",
        "        vertical_flip=False)  # randomly flip images\n",
        "\n",
        "datagen.fit(x)"
      ]
    },
    {
      "cell_type": "markdown",
      "id": "79968321",
      "metadata": {
        "id": "79968321"
      },
      "source": [
        "## Age Classification ##"
      ]
    },
    {
      "cell_type": "code",
      "execution_count": 35,
      "id": "7a15cf1f",
      "metadata": {
        "id": "7a15cf1f"
      },
      "outputs": [],
      "source": [
        "X_train_age, X_test_age, y_train_age, y_test_age = train_test_split(x, age, test_size= 0.20)\n",
        "X_train_age,X_val_age, y_train_age,y_val_age = train_test_split(X_train_age,y_train_age,random_state = 21, test_size = 0.15)"
      ]
    },
    {
      "cell_type": "code",
      "execution_count": 36,
      "id": "LPwI2P-BqWfW",
      "metadata": {
        "id": "LPwI2P-BqWfW"
      },
      "outputs": [],
      "source": [
        "from keras.models import Sequential, Model\n",
        "from keras.layers import Dense, GlobalAveragePooling2D"
      ]
    },
    {
      "cell_type": "code",
      "execution_count": 37,
      "id": "w-hm70b4qjf6",
      "metadata": {
        "id": "w-hm70b4qjf6"
      },
      "outputs": [],
      "source": [
        "def model_upd(num_classes, activation, loss):\n",
        "  ## MobileNet\n",
        "  base_model = tf.keras.applications.MobileNet(weights = None, include_top = False, input_shape= (48,48,1))\n",
        "  new_x = base_model.output\n",
        "  new_x = GlobalAveragePooling2D()(new_x)\n",
        "  new_x = Dense(16, activation = 'relu')(new_x)\n",
        "\n",
        "  new_x = Dense(num_classes, activation = activation)(new_x)\n",
        "  model = Model(inputs = base_model.input, outputs = new_x)\n",
        "  for layer in base_model.layers:\n",
        "    layer.trainable = True\n",
        "\n",
        "  model.compile(optimizer='Adam',\n",
        "                loss= loss,\n",
        "                metrics=['accuracy'])\n",
        "\n",
        "  return model\n",
        "\n"
      ]
    },
    {
      "cell_type": "code",
      "execution_count": 38,
      "id": "kFH5T91K7t48",
      "metadata": {
        "id": "kFH5T91K7t48"
      },
      "outputs": [],
      "source": [
        "def model_vgg(num_classes, activation, loss):\n",
        "  ## VGG16\n",
        "  base_model = tf.keras.applications.vgg16.VGG16(weights = None, include_top = False, input_shape= (48,48,1))\n",
        "  new_x = base_model.output\n",
        "  new_x = GlobalAveragePooling2D()(new_x)\n",
        "  new_x = Dense(16, activation = 'relu')(new_x)\n",
        "\n",
        "  new_x = Dense(num_classes, activation = activation)(new_x)\n",
        "  model = Model(inputs = base_model.input, outputs = new_x)\n",
        "  for layer in base_model.layers:\n",
        "    layer.trainable = True\n",
        "\n",
        "  model.compile(optimizer='Adam',\n",
        "                loss= loss,\n",
        "                metrics=['accuracy'])\n",
        "\n",
        "  return model"
      ]
    },
    {
      "cell_type": "code",
      "execution_count": 39,
      "id": "261b1397",
      "metadata": {
        "id": "261b1397"
      },
      "outputs": [],
      "source": [
        "def model(num_classes, activation, loss):\n",
        "\n",
        "    model = Sequential() \n",
        "    model.add(Conv2D(32, kernel_size=(3, 3), activation='relu', padding = \"same\", input_shape=(48,48,1)))\n",
        "    model.add(BatchNormalization())\n",
        "    model.add(MaxPool2D(pool_size=(2, 2)))\n",
        "    # model.add(Conv2D(64, kernel_size=(3, 3), activation='relu', padding = \"same\"))\n",
        "    # model.add(BatchNormalization())\n",
        "    # model.add(MaxPool2D(pool_size=(2, 2)))\n",
        "    model.add(Conv2D(64, kernel_size=(3, 3), activation='relu', padding = \"same\"))\n",
        "    model.add(MaxPool2D(pool_size=(2, 2)))\n",
        "    model.add(Flatten())\n",
        "    model.add(Dense(256, activation='relu'))\n",
        "    model.add(Dropout(0.5))\n",
        "    model.add(Dense(num_classes, activation= activation))\n",
        "    model.compile(optimizer='Adam',\n",
        "              loss= loss,\n",
        "              metrics=['accuracy'])\n",
        "    \n",
        "\n",
        "\n",
        "    return model"
      ]
    },
    {
      "cell_type": "code",
      "execution_count": 44,
      "id": "zH4Pv0J3or8R",
      "metadata": {
        "id": "zH4Pv0J3or8R",
        "colab": {
          "base_uri": "https://localhost:8080/"
        },
        "outputId": "1b447a7d-b6d5-45a5-fb17-88d8bf804139"
      },
      "outputs": [
        {
          "output_type": "stream",
          "name": "stdout",
          "text": [
            "Model: \"sequential_1\"\n",
            "_________________________________________________________________\n",
            " Layer (type)                Output Shape              Param #   \n",
            "=================================================================\n",
            " conv2d_2 (Conv2D)           (None, 48, 48, 32)        320       \n",
            "                                                                 \n",
            " batch_normalization_1 (Batc  (None, 48, 48, 32)       128       \n",
            " hNormalization)                                                 \n",
            "                                                                 \n",
            " max_pooling2d_2 (MaxPooling  (None, 24, 24, 32)       0         \n",
            " 2D)                                                             \n",
            "                                                                 \n",
            " conv2d_3 (Conv2D)           (None, 24, 24, 64)        18496     \n",
            "                                                                 \n",
            " max_pooling2d_3 (MaxPooling  (None, 12, 12, 64)       0         \n",
            " 2D)                                                             \n",
            "                                                                 \n",
            " flatten_1 (Flatten)         (None, 9216)              0         \n",
            "                                                                 \n",
            " dense_2 (Dense)             (None, 256)               2359552   \n",
            "                                                                 \n",
            " dropout_1 (Dropout)         (None, 256)               0         \n",
            "                                                                 \n",
            " dense_3 (Dense)             (None, 5)                 1285      \n",
            "                                                                 \n",
            "=================================================================\n",
            "Total params: 2,379,781\n",
            "Trainable params: 2,379,717\n",
            "Non-trainable params: 64\n",
            "_________________________________________________________________\n"
          ]
        }
      ],
      "source": [
        "model_age = model(5,\"softmax\",'categorical_crossentropy')\n",
        "\n",
        "model_age.summary()"
      ]
    },
    {
      "cell_type": "code",
      "execution_count": 41,
      "id": "54073f66",
      "metadata": {
        "id": "54073f66"
      },
      "outputs": [],
      "source": [
        "early_stopping = EarlyStopping(patience=3, min_delta=0.001,restore_best_weights=True)\n",
        "\n",
        "learning_rate_reduction = ReduceLROnPlateau(monitor='val_accuracy', patience=3, verbose=1, factor=0.5, min_lr=0.00001)"
      ]
    },
    {
      "cell_type": "markdown",
      "id": "2eef443c",
      "metadata": {
        "id": "2eef443c"
      },
      "source": [
        "## Age: CNN ##"
      ]
    },
    {
      "cell_type": "code",
      "execution_count": null,
      "id": "66f1fa01",
      "metadata": {
        "id": "66f1fa01",
        "colab": {
          "base_uri": "https://localhost:8080/"
        },
        "outputId": "82398317-63da-4d42-d0be-2c7620680f7c"
      },
      "outputs": [
        {
          "output_type": "stream",
          "name": "stdout",
          "text": [
            "Epoch 1/7\n",
            "503/503 [==============================] - 87s 171ms/step - loss: 0.9425 - accuracy: 0.6502 - val_loss: 1.5016 - val_accuracy: 0.1782 - lr: 0.0010\n",
            "Epoch 2/7\n",
            "364/503 [====================>.........] - ETA: 21s - loss: 0.7663 - accuracy: 0.7045"
          ]
        }
      ],
      "source": [
        "batch_size = 32\n",
        "\n",
        "model_age = model(5,\"softmax\",'categorical_crossentropy')\n",
        "history_age = model_age.fit(X_train_age, y_train_age, batch_size=batch_size, epochs = 7, validation_data = (X_val_age,y_val_age), steps_per_epoch= X_train_age.shape[0] // batch_size, callbacks= [early_stopping, learning_rate_reduction])"
      ]
    },
    {
      "cell_type": "code",
      "source": [
        "model_age2 = model(5,\"softmax\",'categorical_crossentropy')\n",
        "history_age = model_age2.fit(X_train_age, y_train_age, batch_size=batch_size, epochs = 8, validation_data = (X_val_age,y_val_age), steps_per_epoch= X_train_age.shape[0] // batch_size, callbacks= [early_stopping, learning_rate_reduction])"
      ],
      "metadata": {
        "id": "xX-dOMsLsCXE"
      },
      "id": "xX-dOMsLsCXE",
      "execution_count": null,
      "outputs": []
    },
    {
      "cell_type": "code",
      "execution_count": null,
      "id": "cf75d177",
      "metadata": {
        "id": "cf75d177"
      },
      "outputs": [],
      "source": [
        "import plotly.express as px\n",
        "fig = px.line(\n",
        "    history_age.history, y=['loss', 'val_loss'],\n",
        "    labels={'index': 'epoch', 'value': 'loss'}, \n",
        "    title='Training History')\n",
        "fig.show()"
      ]
    },
    {
      "cell_type": "code",
      "source": [
        "loss, acc = model_age.evaluate(X_test_age, y_test_age, verbose=1)\n",
        "print('Test loss: {}'.format(loss))\n",
        "print('Test Accuracy: {}'.format(acc))"
      ],
      "metadata": {
        "id": "2onr1OZyzPEi"
      },
      "id": "2onr1OZyzPEi",
      "execution_count": null,
      "outputs": []
    },
    {
      "cell_type": "markdown",
      "id": "7ee5bd36",
      "metadata": {
        "id": "7ee5bd36"
      },
      "source": [
        "## Age: VGG16 ##"
      ]
    },
    {
      "cell_type": "code",
      "execution_count": null,
      "id": "950e8c14",
      "metadata": {
        "id": "950e8c14"
      },
      "outputs": [],
      "source": [
        "model_age = model_vgg(5,\"softmax\",'categorical_crossentropy')\n",
        "history_age = model_age.fit(X_train_age, y_train_age, batch_size=batch_size, epochs = 10, validation_data = (X_val_age,y_val_age), steps_per_epoch= X_train_age.shape[0] // batch_size, callbacks= [early_stopping, learning_rate_reduction])"
      ]
    },
    {
      "cell_type": "code",
      "execution_count": null,
      "id": "9ae94621",
      "metadata": {
        "id": "9ae94621"
      },
      "outputs": [],
      "source": [
        "import plotly.express as px\n",
        "fig = px.line(\n",
        "    history_age.history, y=['loss', 'val_loss'],\n",
        "    labels={'index': 'epoch', 'value': 'loss'}, \n",
        "    title='Training History')\n",
        "fig.show()"
      ]
    },
    {
      "cell_type": "code",
      "execution_count": null,
      "id": "7332e6d4",
      "metadata": {
        "id": "7332e6d4"
      },
      "outputs": [],
      "source": [
        "loss, acc = model_age.evaluate(X_test_age, y_test_age, verbose=1)\n",
        "print('Test loss: {}'.format(loss))\n",
        "print('Test Accuracy: {}'.format(acc))"
      ]
    },
    {
      "cell_type": "markdown",
      "id": "3db80af1",
      "metadata": {
        "id": "3db80af1"
      },
      "source": [
        "## Age: MobileNet ##"
      ]
    },
    {
      "cell_type": "code",
      "execution_count": null,
      "id": "96d4551f",
      "metadata": {
        "id": "96d4551f"
      },
      "outputs": [],
      "source": [
        "epochs = 7\n",
        "model_age = model_upd(5,\"softmax\",'categorical_crossentropy')\n",
        "history_age = model_age.fit(X_train_age, y_train_age, batch_size=batch_size, epochs = epochs, validation_data = (X_val_age,y_val_age), steps_per_epoch= X_train_age.shape[0] // batch_size, callbacks= [early_stopping, learning_rate_reduction])"
      ]
    },
    {
      "cell_type": "code",
      "execution_count": null,
      "id": "cb1327bd",
      "metadata": {
        "id": "cb1327bd"
      },
      "outputs": [],
      "source": [
        "import plotly.express as px\n",
        "fig = px.line(\n",
        "    history_age.history, y=['loss', 'val_loss'],\n",
        "    labels={'index': 'epoch', 'value': 'loss'}, \n",
        "    title='Training History')\n",
        "fig.show()"
      ]
    },
    {
      "cell_type": "code",
      "source": [
        "loss, acc = model_age.evaluate(X_test_age, y_test_age, verbose=1)\n",
        "print('Test loss: {}'.format(loss))\n",
        "print('Test Accuracy: {}'.format(acc))"
      ],
      "metadata": {
        "id": "jsaFzWL907fi"
      },
      "id": "jsaFzWL907fi",
      "execution_count": null,
      "outputs": []
    },
    {
      "cell_type": "markdown",
      "id": "dc901c76",
      "metadata": {
        "id": "dc901c76"
      },
      "source": [
        "## Gender Classification ##"
      ]
    },
    {
      "cell_type": "code",
      "execution_count": null,
      "id": "ad22fe62",
      "metadata": {
        "id": "ad22fe62"
      },
      "outputs": [],
      "source": [
        "X_train_gender, X_test_gender, y_train_gender, y_test_gender = train_test_split(x, gender, test_size= 0.15)\n",
        "X_train_gender,X_val_gender, y_train_gender,y_val_gender = train_test_split(X_train_gender,y_train_gender,random_state = 21, test_size = 0.15)"
      ]
    },
    {
      "cell_type": "markdown",
      "id": "950fc60b",
      "metadata": {
        "id": "950fc60b"
      },
      "source": [
        "## Gender: CNN ##"
      ]
    },
    {
      "cell_type": "code",
      "execution_count": null,
      "id": "b9343ad4",
      "metadata": {
        "id": "b9343ad4"
      },
      "outputs": [],
      "source": [
        "epochs = 5\n",
        "model_gender = model(2,\"softmax\",'categorical_crossentropy')\n",
        "history_gender = model_gender.fit(X_train_gender, y_train_gender, batch_size=batch_size, epochs = epochs, validation_data = (X_val_gender,y_val_gender), steps_per_epoch= X_train_gender.shape[0] // batch_size, callbacks= [early_stopping, learning_rate_reduction])"
      ]
    },
    {
      "cell_type": "code",
      "execution_count": null,
      "id": "becd7a0d",
      "metadata": {
        "id": "becd7a0d"
      },
      "outputs": [],
      "source": [
        "import plotly.express as px\n",
        "fig = px.line(\n",
        "    history_gender.history, y=['loss', 'val_loss'],\n",
        "    labels={'index': 'epoch', 'value': 'loss'}, \n",
        "    title='Training History')\n",
        "fig.show()"
      ]
    },
    {
      "cell_type": "code",
      "execution_count": null,
      "id": "5e128196",
      "metadata": {
        "id": "5e128196"
      },
      "outputs": [],
      "source": [
        "loss, acc = model_gender.evaluate(X_test_gender, y_test_gender, verbose=1)\n",
        "print('Test loss: {}'.format(loss))\n",
        "print('Test Accuracy: {}'.format(acc))"
      ]
    },
    {
      "cell_type": "markdown",
      "id": "9e996847",
      "metadata": {
        "id": "9e996847"
      },
      "source": [
        "## Gender: MobileNet ##"
      ]
    },
    {
      "cell_type": "code",
      "execution_count": null,
      "id": "8938bd35",
      "metadata": {
        "id": "8938bd35"
      },
      "outputs": [],
      "source": [
        "epochs = 8\n",
        "model_gender = model_upd(2,\"softmax\",'categorical_crossentropy')\n",
        "history_gender = model_gender.fit(X_train_gender, y_train_gender, batch_size=batch_size, epochs = epochs, validation_data = (X_val_gender,y_val_gender), steps_per_epoch= X_train_gender.shape[0] // batch_size, callbacks= [early_stopping, learning_rate_reduction])"
      ]
    },
    {
      "cell_type": "code",
      "execution_count": null,
      "id": "105d4060",
      "metadata": {
        "id": "105d4060"
      },
      "outputs": [],
      "source": [
        "import plotly.express as px\n",
        "fig = px.line(\n",
        "    history_gender.history, y=['loss', 'val_loss'],\n",
        "    labels={'index': 'epoch', 'value': 'loss'}, \n",
        "    title='Training History')\n",
        "fig.show()"
      ]
    },
    {
      "cell_type": "code",
      "execution_count": null,
      "id": "03a506f7",
      "metadata": {
        "id": "03a506f7"
      },
      "outputs": [],
      "source": [
        "loss, acc = model_gender.evaluate(X_test_gender, y_test_gender, verbose=1)\n",
        "print('Test loss: {}'.format(loss))\n",
        "print('Test Accuracy: {}'.format(acc))"
      ]
    },
    {
      "cell_type": "markdown",
      "id": "423dee1a",
      "metadata": {
        "id": "423dee1a"
      },
      "source": [
        "## Gender: VGG16 ##"
      ]
    },
    {
      "cell_type": "code",
      "execution_count": null,
      "id": "5bedc974",
      "metadata": {
        "id": "5bedc974"
      },
      "outputs": [],
      "source": [
        "model_gender = model_vgg(2,\"softmax\",'categorical_crossentropy')\n",
        "history_gender = model_gender.fit(X_train_gender, y_train_gender, batch_size=batch_size, epochs = 9, validation_data = (X_val_gender,y_val_gender), steps_per_epoch= X_train_gender.shape[0] // batch_size, callbacks= [early_stopping, learning_rate_reduction])"
      ]
    },
    {
      "cell_type": "code",
      "execution_count": null,
      "id": "620cf979",
      "metadata": {
        "id": "620cf979"
      },
      "outputs": [],
      "source": [
        "import plotly.express as px\n",
        "fig = px.line(\n",
        "    history_gender.history, y=['loss', 'val_loss'],\n",
        "    labels={'index': 'epoch', 'value': 'loss'}, \n",
        "    title='Training History')\n",
        "fig.show()"
      ]
    },
    {
      "cell_type": "code",
      "source": [
        "model2_gender = model_vgg(2,\"softmax\",'categorical_crossentropy')\n",
        "history_gender = model2_gender.fit(X_train_gender, y_train_gender, batch_size=batch_size, epochs = 3, validation_data = (X_val_gender,y_val_gender), steps_per_epoch= X_train_gender.shape[0] // batch_size, callbacks= [early_stopping, learning_rate_reduction])"
      ],
      "metadata": {
        "id": "PjlsLE2DgdfQ"
      },
      "id": "PjlsLE2DgdfQ",
      "execution_count": null,
      "outputs": []
    },
    {
      "cell_type": "code",
      "execution_count": null,
      "id": "7972e8bb",
      "metadata": {
        "id": "7972e8bb"
      },
      "outputs": [],
      "source": [
        "loss, acc = model2_gender.evaluate(X_test_gender, y_test_gender, verbose=1)\n",
        "print('Test loss: {}'.format(loss))\n",
        "print('Test Accuracy: {}'.format(acc))"
      ]
    },
    {
      "cell_type": "markdown",
      "id": "cb2ee01f",
      "metadata": {
        "id": "cb2ee01f"
      },
      "source": [
        "## Age: RESNET50 ##"
      ]
    },
    {
      "cell_type": "code",
      "execution_count": null,
      "id": "25e88c61",
      "metadata": {
        "id": "25e88c61"
      },
      "outputs": [],
      "source": [
        "from keras.applications.resnet import ResNet50\n",
        "def model_resnet(num_classes, activation, loss):\n",
        "  ## ResNet50\n",
        "  base_model = tf.keras.applications.resnet50.ResNet50(weights = None, include_top = False, input_shape= (48,48,1))\n",
        "  new_x = base_model.output\n",
        "  new_x = GlobalAveragePooling2D()(new_x)\n",
        "  new_x = Dense(16, activation = 'relu')(new_x)\n",
        "\n",
        "  new_x = Dense(num_classes, activation = activation)(new_x)\n",
        "  model = Model(inputs = base_model.input, outputs = new_x)\n",
        "  for layer in base_model.layers:\n",
        "    layer.trainable = True\n",
        "\n",
        "  model.compile(optimizer='Adam',\n",
        "                loss= loss,\n",
        "                metrics=['accuracy'])\n",
        "\n",
        "  return model"
      ]
    },
    {
      "cell_type": "code",
      "source": [
        "model_age = model_resnet(5,\"softmax\",'categorical_crossentropy')\n",
        "history_age = model_age.fit(X_train_age, y_train_age, batch_size=batch_size, epochs = 10, validation_data = (X_val_age,y_val_age), steps_per_epoch= X_train_age.shape[0] // batch_size, callbacks= [early_stopping, learning_rate_reduction])"
      ],
      "metadata": {
        "id": "5-4Tpj2FgimS"
      },
      "id": "5-4Tpj2FgimS",
      "execution_count": null,
      "outputs": []
    },
    {
      "cell_type": "code",
      "source": [
        "import plotly.express as px\n",
        "fig = px.line(\n",
        "    history_age.history, y=['loss', 'val_loss'],\n",
        "    labels={'index': 'epoch', 'value': 'loss'}, \n",
        "    title='Training History')\n",
        "fig.show()"
      ],
      "metadata": {
        "id": "iqzn9QGr4bMr"
      },
      "id": "iqzn9QGr4bMr",
      "execution_count": null,
      "outputs": []
    },
    {
      "cell_type": "code",
      "execution_count": null,
      "id": "c06bfb22",
      "metadata": {
        "id": "c06bfb22"
      },
      "outputs": [],
      "source": [
        "loss, acc = model_age.evaluate(X_test_age, y_test_age, verbose=1)\n",
        "print('Test loss: {}'.format(loss))\n",
        "print('Test Accuracy: {}'.format(acc))"
      ]
    },
    {
      "cell_type": "markdown",
      "id": "9ab4c711",
      "metadata": {
        "id": "9ab4c711"
      },
      "source": [
        "## Gender: RESNET50 ##"
      ]
    },
    {
      "cell_type": "code",
      "execution_count": null,
      "id": "9a2dfb50",
      "metadata": {
        "id": "9a2dfb50"
      },
      "outputs": [],
      "source": [
        "model_gender = model_resnet(2,\"softmax\",'categorical_crossentropy')\n",
        "history_gender = model_gender.fit(X_train_gender, y_train_gender, batch_size=batch_size, epochs = 9, validation_data = (X_val_gender,y_val_gender), steps_per_epoch= X_train_gender.shape[0] // batch_size, callbacks= [early_stopping, learning_rate_reduction])"
      ]
    },
    {
      "cell_type": "code",
      "execution_count": null,
      "id": "916219bd",
      "metadata": {
        "id": "916219bd"
      },
      "outputs": [],
      "source": [
        "import plotly.express as px\n",
        "fig = px.line(\n",
        "    history_gender.history, y=['loss', 'val_loss'],\n",
        "    labels={'index': 'epoch', 'value': 'loss'}, \n",
        "    title='Training History')\n",
        "fig.show()"
      ]
    },
    {
      "cell_type": "code",
      "execution_count": null,
      "id": "59022a3a",
      "metadata": {
        "id": "59022a3a"
      },
      "outputs": [],
      "source": [
        "loss, acc = model_gender.evaluate(X_test_gender, y_test_gender, verbose=1)\n",
        "print('Test loss: {}'.format(loss))\n",
        "print('Test Accuracy: {}'.format(acc))"
      ]
    }
  ],
  "metadata": {
    "accelerator": "TPU",
    "colab": {
      "name": "AgeGenderEthnicity_ProjectCode.ipynb",
      "provenance": []
    },
    "kernelspec": {
      "display_name": "Python 3 (ipykernel)",
      "language": "python",
      "name": "python3"
    },
    "language_info": {
      "codemirror_mode": {
        "name": "ipython",
        "version": 3
      },
      "file_extension": ".py",
      "mimetype": "text/x-python",
      "name": "python",
      "nbconvert_exporter": "python",
      "pygments_lexer": "ipython3",
      "version": "3.8.3"
    },
    "gpuClass": "standard"
  },
  "nbformat": 4,
  "nbformat_minor": 5
}